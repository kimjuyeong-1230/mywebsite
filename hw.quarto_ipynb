{
  "cells": [
    {
      "cell_type": "markdown",
      "metadata": {},
      "source": [
        "---\n",
        "title: \"hw1\"\n",
        "jupyter: python3\n",
        "---\n",
        "\n",
        "\n",
        "## 홈페이지 첫 화면입니다!\n",
        "\n",
        "안녕하세요 데이터분석쥉입니다"
      ],
      "id": "9ae82d8e"
    }
  ],
  "metadata": {
    "kernelspec": {
      "name": "python3",
      "language": "python",
      "display_name": "Python 3 (ipykernel)",
      "path": "C:\\Users\\USER\\AppData\\Local\\Programs\\Python\\Python39\\share\\jupyter\\kernels\\python3"
    }
  },
  "nbformat": 4,
  "nbformat_minor": 5
}