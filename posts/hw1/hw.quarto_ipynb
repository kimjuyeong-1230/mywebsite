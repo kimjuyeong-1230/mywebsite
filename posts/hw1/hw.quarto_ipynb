{
  "cells": [
    {
      "cell_type": "markdown",
      "metadata": {},
      "source": [
        "---\n",
        "title: \"hw1\"\n",
        "jupyter: python3\n",
        "author: \"김주영\"\n",
        "data: \"2024-07-17\"\n",
        "category: [\"news\"]\n",
        "---\n",
        "\n",
        "\n",
        "This is the first post in a Quarto blog. Welcome!\n",
        "\n",
        "![](busan.jpg)\n",
        "\n",
        "---\n",
        "\n",
        "### 84pg. 다음 표의 내용을 데이터 프레임으로 만들어 출력해 보세요."
      ],
      "id": "1f0c8615"
    },
    {
      "cell_type": "code",
      "metadata": {},
      "source": [
        "import pandas as pd\n",
        "df = pd.DataFrame({\n",
        "  '제품' : ['사과', '딸기', '수박'],\n",
        "                  '가격' : [1800, 1500, 3000],\n",
        "                  '판매량' : [24, 38, 13]\n",
        "                  })\n",
        "df"
      ],
      "id": "40732dc9",
      "execution_count": null,
      "outputs": []
    },
    {
      "cell_type": "code",
      "metadata": {},
      "source": [
        "# 가격 평균\n",
        "sum(df['가격'])/3"
      ],
      "id": "ea600219",
      "execution_count": null,
      "outputs": []
    },
    {
      "cell_type": "code",
      "metadata": {},
      "source": [
        "# 판매량 평균\n",
        "sum(df['판매량'])/3"
      ],
      "id": "0400e4a9",
      "execution_count": null,
      "outputs": []
    },
    {
      "cell_type": "markdown",
      "metadata": {},
      "source": [
        "### 115pg. 데이터를 이용해 분석 문제를 해결해 보세요."
      ],
      "id": "688e0378"
    },
    {
      "cell_type": "code",
      "metadata": {},
      "source": [
        "# mpg 데이터 복사본 만들기\n",
        "mpg = pd.read_csv(\"C:/Users/USER/Documents/LS빅데이터스쿨/Doit_Python/Data/mpg.csv\")\n",
        "mpg_copy = mpg.copy()\n",
        "mpg_copy"
      ],
      "id": "b4a93c0e",
      "execution_count": null,
      "outputs": []
    },
    {
      "cell_type": "code",
      "metadata": {},
      "source": [
        "# 복사본 데이터 이용해 cty는 city로, hwy는 highway로 수정\n",
        "mpg_copy = mpg_copy.rename(columns = {'cty' : 'city'})\n",
        "mpg_copy = mpg_copy.rename(columns = {'hwy' : 'highway'})\n",
        "#mpg_copy = mpg_copy.rename(columns={'cty': 'city', 'hwy': 'highway'}) 이렇게도 가능\n",
        "\n",
        "# 일부 출력하여 변수명 바뀌었는지 확인\n",
        "mpg_copy[:5]\n",
        "mpg_copy.head()"
      ],
      "id": "6e283bc3",
      "execution_count": null,
      "outputs": []
    },
    {
      "cell_type": "markdown",
      "metadata": {},
      "source": [
        "### 130pg. 미국 동북중부 437개 지역의 인구통계정보 데이터 활용"
      ],
      "id": "76943ac2"
    },
    {
      "cell_type": "code",
      "metadata": {},
      "source": [
        "# 데이터 불러오기\n",
        "midwest = pd.read_csv(\"C:/Users/USER/Documents/LS빅데이터스쿨/Doit_Python/Data/midwest.csv\")\n",
        "midwest"
      ],
      "id": "605a9633",
      "execution_count": null,
      "outputs": []
    },
    {
      "cell_type": "code",
      "metadata": {},
      "source": [
        "# poptotal변수를 total로, popasian변수를 asian으로 수정\n",
        "midwest = midwest.rename(columns={'poptotal': 'total', 'popasian': 'asian'})\n",
        "midwest.columns"
      ],
      "id": "a3921754",
      "execution_count": null,
      "outputs": []
    },
    {
      "cell_type": "code",
      "metadata": {},
      "source": [
        "# total, asian 변수를 이용해 '전체 인구 대비 아시아 인구 백분율' 파생변수를 추가하고, 히스토그램 만들기\n",
        "import matplotlib.pyplot as plt\n",
        "midwest['전체 인구 대비 아시아 인구 백분율'] = (midwest['asian'] / midwest['total']) * 100\n",
        "midwest['전체 인구 대비 아시아 인구 백분율'].plot.hist()\n",
        "plt.show()"
      ],
      "id": "108234fc",
      "execution_count": null,
      "outputs": []
    },
    {
      "cell_type": "code",
      "metadata": {},
      "source": [
        "# 아시아 인구 백분율 전체 평균을 구하고 평균을 초과하면 large, 그외에는 small 부여한 파생변수 만들기\n",
        "import numpy as np\n",
        "asian_percentage = midwest['전체 인구 대비 아시아 인구 백분율'].mean()\n",
        "midwest['group'] = np.where(midwest['전체 인구 대비 아시아 인구 백분율'] > asian_percentage, 'large', 'small')\n",
        "midwest"
      ],
      "id": "1f1cdfe3",
      "execution_count": null,
      "outputs": []
    },
    {
      "cell_type": "code",
      "metadata": {},
      "source": [
        "# 빈도 구하기\n",
        "count_test = midwest['group'].value_counts()\n",
        "count_test\n",
        "\n",
        "# 빈도 막대 그래프\n",
        "count_test.plot.bar(rot = 0)"
      ],
      "id": "59409046",
      "execution_count": null,
      "outputs": []
    }
  ],
  "metadata": {
    "kernelspec": {
      "name": "python3",
      "language": "python",
      "display_name": "Python 3 (ipykernel)",
      "path": "C:\\Users\\USER\\AppData\\Local\\Programs\\Python\\Python39\\share\\jupyter\\kernels\\python3"
    }
  },
  "nbformat": 4,
  "nbformat_minor": 5
}